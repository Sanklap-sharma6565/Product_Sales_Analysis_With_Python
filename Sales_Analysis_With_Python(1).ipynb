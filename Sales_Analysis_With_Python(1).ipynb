{
 "cells": [
  {
   "cell_type": "code",
   "execution_count": 7,
   "id": "28ee1a6d",
   "metadata": {},
   "outputs": [
    {
     "data": {
      "text/html": [
       "<div>\n",
       "<style scoped>\n",
       "    .dataframe tbody tr th:only-of-type {\n",
       "        vertical-align: middle;\n",
       "    }\n",
       "\n",
       "    .dataframe tbody tr th {\n",
       "        vertical-align: top;\n",
       "    }\n",
       "\n",
       "    .dataframe thead th {\n",
       "        text-align: right;\n",
       "    }\n",
       "</style>\n",
       "<table border=\"1\" class=\"dataframe\">\n",
       "  <thead>\n",
       "    <tr style=\"text-align: right;\">\n",
       "      <th></th>\n",
       "      <th>item_id</th>\n",
       "      <th>user_id</th>\n",
       "      <th>rating</th>\n",
       "      <th>timestamp</th>\n",
       "      <th>model_attr</th>\n",
       "      <th>category</th>\n",
       "      <th>brand</th>\n",
       "      <th>year</th>\n",
       "      <th>user_attr</th>\n",
       "      <th>split</th>\n",
       "    </tr>\n",
       "  </thead>\n",
       "  <tbody>\n",
       "    <tr>\n",
       "      <th>0</th>\n",
       "      <td>0</td>\n",
       "      <td>0</td>\n",
       "      <td>5</td>\n",
       "      <td>13-06-1999</td>\n",
       "      <td>Female</td>\n",
       "      <td>Portable Audio &amp; Video</td>\n",
       "      <td>NaN</td>\n",
       "      <td>1999</td>\n",
       "      <td>NaN</td>\n",
       "      <td>0</td>\n",
       "    </tr>\n",
       "    <tr>\n",
       "      <th>1</th>\n",
       "      <td>0</td>\n",
       "      <td>1</td>\n",
       "      <td>5</td>\n",
       "      <td>14-06-1999</td>\n",
       "      <td>Female</td>\n",
       "      <td>Portable Audio &amp; Video</td>\n",
       "      <td>NaN</td>\n",
       "      <td>1999</td>\n",
       "      <td>NaN</td>\n",
       "      <td>0</td>\n",
       "    </tr>\n",
       "    <tr>\n",
       "      <th>2</th>\n",
       "      <td>0</td>\n",
       "      <td>2</td>\n",
       "      <td>3</td>\n",
       "      <td>17-06-1999</td>\n",
       "      <td>Female</td>\n",
       "      <td>Portable Audio &amp; Video</td>\n",
       "      <td>NaN</td>\n",
       "      <td>1999</td>\n",
       "      <td>NaN</td>\n",
       "      <td>0</td>\n",
       "    </tr>\n",
       "    <tr>\n",
       "      <th>3</th>\n",
       "      <td>0</td>\n",
       "      <td>3</td>\n",
       "      <td>1</td>\n",
       "      <td>01-07-1999</td>\n",
       "      <td>Female</td>\n",
       "      <td>Portable Audio &amp; Video</td>\n",
       "      <td>NaN</td>\n",
       "      <td>1999</td>\n",
       "      <td>NaN</td>\n",
       "      <td>0</td>\n",
       "    </tr>\n",
       "    <tr>\n",
       "      <th>4</th>\n",
       "      <td>0</td>\n",
       "      <td>4</td>\n",
       "      <td>2</td>\n",
       "      <td>06-07-1999</td>\n",
       "      <td>Female</td>\n",
       "      <td>Portable Audio &amp; Video</td>\n",
       "      <td>NaN</td>\n",
       "      <td>1999</td>\n",
       "      <td>NaN</td>\n",
       "      <td>0</td>\n",
       "    </tr>\n",
       "  </tbody>\n",
       "</table>\n",
       "</div>"
      ],
      "text/plain": [
       "   item_id  user_id  rating   timestamp model_attr                category  \\\n",
       "0        0        0       5  13-06-1999     Female  Portable Audio & Video   \n",
       "1        0        1       5  14-06-1999     Female  Portable Audio & Video   \n",
       "2        0        2       3  17-06-1999     Female  Portable Audio & Video   \n",
       "3        0        3       1  01-07-1999     Female  Portable Audio & Video   \n",
       "4        0        4       2  06-07-1999     Female  Portable Audio & Video   \n",
       "\n",
       "  brand  year user_attr  split  \n",
       "0   NaN  1999       NaN      0  \n",
       "1   NaN  1999       NaN      0  \n",
       "2   NaN  1999       NaN      0  \n",
       "3   NaN  1999       NaN      0  \n",
       "4   NaN  1999       NaN      0  "
      ]
     },
     "execution_count": 7,
     "metadata": {},
     "output_type": "execute_result"
    }
   ],
   "source": [
    "# The dataset gives us electronics sales data at Amazon. \n",
    "\n",
    "# It contains user ratings for various electronics items sold, along with category of each item and time of sell.\n",
    "\n",
    "# The dataset is available at https://www.kaggle.com/datasets/edusanketdk/electronics\n",
    "\n",
    "# Importing the libraries\n",
    "\n",
    "import pandas as pd\n",
    "import numpy as np\n",
    "import matplotlib.pyplot as plt\n",
    "\n",
    "# visualization\n",
    "\n",
    "import seaborn as sns\n",
    "\n",
    "# warnings\n",
    "\n",
    "import warnings\n",
    "warnings.filterwarnings('ignore')\n",
    "\n",
    "# Importing the dataset\n",
    "\n",
    "dataset = pd.read_csv('C:/Users/Sanklap/Desktop/electronic.csv')\n",
    "\n",
    "# list of first five rows\n",
    "\n",
    "dataset.head()"
   ]
  },
  {
   "cell_type": "code",
   "execution_count": 3,
   "id": "6ce3027d",
   "metadata": {},
   "outputs": [
    {
     "data": {
      "text/html": [
       "<div>\n",
       "<style scoped>\n",
       "    .dataframe tbody tr th:only-of-type {\n",
       "        vertical-align: middle;\n",
       "    }\n",
       "\n",
       "    .dataframe tbody tr th {\n",
       "        vertical-align: top;\n",
       "    }\n",
       "\n",
       "    .dataframe thead th {\n",
       "        text-align: right;\n",
       "    }\n",
       "</style>\n",
       "<table border=\"1\" class=\"dataframe\">\n",
       "  <thead>\n",
       "    <tr style=\"text-align: right;\">\n",
       "      <th></th>\n",
       "      <th>item_id</th>\n",
       "      <th>user_id</th>\n",
       "      <th>rating</th>\n",
       "      <th>timestamp</th>\n",
       "      <th>model_attr</th>\n",
       "      <th>category</th>\n",
       "      <th>brand</th>\n",
       "      <th>year</th>\n",
       "      <th>user_attr</th>\n",
       "      <th>split</th>\n",
       "    </tr>\n",
       "  </thead>\n",
       "  <tbody>\n",
       "    <tr>\n",
       "      <th>1048570</th>\n",
       "      <td>5884</td>\n",
       "      <td>415948</td>\n",
       "      <td>5</td>\n",
       "      <td>04-02-2017</td>\n",
       "      <td>Female&amp;Male</td>\n",
       "      <td>Computers &amp; Accessories</td>\n",
       "      <td>NaN</td>\n",
       "      <td>2015</td>\n",
       "      <td>Female</td>\n",
       "      <td>2</td>\n",
       "    </tr>\n",
       "    <tr>\n",
       "      <th>1048571</th>\n",
       "      <td>1236</td>\n",
       "      <td>941858</td>\n",
       "      <td>5</td>\n",
       "      <td>04-02-2017</td>\n",
       "      <td>Female&amp;Male</td>\n",
       "      <td>Home Audio</td>\n",
       "      <td>Pyle</td>\n",
       "      <td>2011</td>\n",
       "      <td>NaN</td>\n",
       "      <td>0</td>\n",
       "    </tr>\n",
       "    <tr>\n",
       "      <th>1048572</th>\n",
       "      <td>2031</td>\n",
       "      <td>941454</td>\n",
       "      <td>5</td>\n",
       "      <td>04-02-2017</td>\n",
       "      <td>Female</td>\n",
       "      <td>Computers &amp; Accessories</td>\n",
       "      <td>Logitech</td>\n",
       "      <td>2012</td>\n",
       "      <td>NaN</td>\n",
       "      <td>2</td>\n",
       "    </tr>\n",
       "    <tr>\n",
       "      <th>1048573</th>\n",
       "      <td>8103</td>\n",
       "      <td>941859</td>\n",
       "      <td>5</td>\n",
       "      <td>04-02-2017</td>\n",
       "      <td>Female&amp;Male</td>\n",
       "      <td>Computers &amp; Accessories</td>\n",
       "      <td>NaN</td>\n",
       "      <td>2017</td>\n",
       "      <td>NaN</td>\n",
       "      <td>0</td>\n",
       "    </tr>\n",
       "    <tr>\n",
       "      <th>1048574</th>\n",
       "      <td>6039</td>\n",
       "      <td>941860</td>\n",
       "      <td>5</td>\n",
       "      <td>04-02-2017</td>\n",
       "      <td>Female</td>\n",
       "      <td>Computers &amp; Accessories</td>\n",
       "      <td>NaN</td>\n",
       "      <td>2015</td>\n",
       "      <td>NaN</td>\n",
       "      <td>0</td>\n",
       "    </tr>\n",
       "  </tbody>\n",
       "</table>\n",
       "</div>"
      ],
      "text/plain": [
       "         item_id  user_id  rating   timestamp   model_attr  \\\n",
       "1048570     5884   415948       5  04-02-2017  Female&Male   \n",
       "1048571     1236   941858       5  04-02-2017  Female&Male   \n",
       "1048572     2031   941454       5  04-02-2017       Female   \n",
       "1048573     8103   941859       5  04-02-2017  Female&Male   \n",
       "1048574     6039   941860       5  04-02-2017       Female   \n",
       "\n",
       "                        category     brand  year user_attr  split  \n",
       "1048570  Computers & Accessories       NaN  2015    Female      2  \n",
       "1048571               Home Audio      Pyle  2011       NaN      0  \n",
       "1048572  Computers & Accessories  Logitech  2012       NaN      2  \n",
       "1048573  Computers & Accessories       NaN  2017       NaN      0  \n",
       "1048574  Computers & Accessories       NaN  2015       NaN      0  "
      ]
     },
     "execution_count": 3,
     "metadata": {},
     "output_type": "execute_result"
    }
   ],
   "source": [
    "# list of last five rows\n",
    "\n",
    "dataset.tail()"
   ]
  },
  {
   "cell_type": "code",
   "execution_count": 4,
   "id": "5d2c01df",
   "metadata": {},
   "outputs": [
    {
     "data": {
      "text/plain": [
       "(1048575, 10)"
      ]
     },
     "execution_count": 4,
     "metadata": {},
     "output_type": "execute_result"
    }
   ],
   "source": [
    "# shape\n",
    "\n",
    "dataset.shape"
   ]
  },
  {
   "cell_type": "code",
   "execution_count": 5,
   "id": "916d5329",
   "metadata": {},
   "outputs": [
    {
     "name": "stdout",
     "output_type": "stream",
     "text": [
      "<class 'pandas.core.frame.DataFrame'>\n",
      "RangeIndex: 1048575 entries, 0 to 1048574\n",
      "Data columns (total 10 columns):\n",
      " #   Column      Non-Null Count    Dtype \n",
      "---  ------      --------------    ----- \n",
      " 0   item_id     1048575 non-null  int64 \n",
      " 1   user_id     1048575 non-null  int64 \n",
      " 2   rating      1048575 non-null  int64 \n",
      " 3   timestamp   1048575 non-null  object\n",
      " 4   model_attr  1048575 non-null  object\n",
      " 5   category    1048575 non-null  object\n",
      " 6   brand       273310 non-null   object\n",
      " 7   year        1048575 non-null  int64 \n",
      " 8   user_attr   144408 non-null   object\n",
      " 9   split       1048575 non-null  int64 \n",
      "dtypes: int64(5), object(5)\n",
      "memory usage: 80.0+ MB\n"
     ]
    }
   ],
   "source": [
    "# It is also a good practice to know the columns and their corresponding data types\n",
    "# along with finding whether they contain null values or not.\n",
    "\n",
    "dataset.info()"
   ]
  },
  {
   "cell_type": "code",
   "execution_count": 8,
   "id": "eb407498",
   "metadata": {},
   "outputs": [
    {
     "data": {
      "text/plain": [
       "0         1999-06-13\n",
       "1         1999-06-14\n",
       "2         1999-06-17\n",
       "3         1999-01-07\n",
       "4         1999-06-07\n",
       "             ...    \n",
       "1048570   2017-04-02\n",
       "1048571   2017-04-02\n",
       "1048572   2017-04-02\n",
       "1048573   2017-04-02\n",
       "1048574   2017-04-02\n",
       "Name: timestamp, Length: 1048575, dtype: datetime64[ns]"
      ]
     },
     "execution_count": 8,
     "metadata": {},
     "output_type": "execute_result"
    }
   ],
   "source": [
    "# We can see that the dataset contains 5 columns and 10000 rows.    \n",
    "\n",
    "# The columns are as follows:\n",
    "\n",
    "# 1. User ID\n",
    "\n",
    "# 2. Product ID\n",
    "\n",
    "# 3. Rating\n",
    "\n",
    "# 4. Timestamp\n",
    "\n",
    "# 5. Category\n",
    "\n",
    "# The data types of the columns are as follows:\n",
    "\n",
    "# 1. User ID - int64\n",
    "\n",
    "# 2. Product ID - object\n",
    "\n",
    "# 3. Rating - int64\n",
    "\n",
    "# 4. Timestamp - int64\n",
    "\n",
    "# 5. Category - object\n",
    "\n",
    "# We can see that the columns User ID and Rating are of int64 data type, while the columns Product ID and Category are of object data type.\n",
    "\n",
    "# We can also see that there are no null values in the dataset.\n",
    "\n",
    "# We can also see that the column Timestamp is of int64 data type, but it is actually a timestamp.\n",
    "\n",
    "# We can convert it to a timestamp using the following code:\n",
    "\n",
    "from datetime import datetime\n",
    "\n",
    "pd.to_datetime(dataset['timestamp'])"
   ]
  },
  {
   "cell_type": "code",
   "execution_count": 9,
   "id": "9c36df36",
   "metadata": {},
   "outputs": [],
   "source": [
    "# We can also see that the column Product ID is of object data type, but it is actually a string.\n",
    "\n",
    "# We can convert it to a string using the following code:\n",
    "\n",
    "dataset['brand'] = dataset['brand'].astype(str)"
   ]
  },
  {
   "cell_type": "code",
   "execution_count": 10,
   "id": "faa87ed7",
   "metadata": {},
   "outputs": [],
   "source": [
    "# We can also see that the column Product ID is of object data type, but it is actually a string.\n",
    "\n",
    "# We can convert it to a string using the following code:\n",
    "\n",
    "dataset['brand'] = dataset['brand'].astype(str)"
   ]
  },
  {
   "cell_type": "code",
   "execution_count": 11,
   "id": "c8174929",
   "metadata": {},
   "outputs": [],
   "source": [
    "# We can also see that the column Timestamp is of int64 data type, but it is actually a timestamp.\n",
    "\n",
    "# We can convert it to a timestamp using the following code:\n",
    "\n",
    "dataset['timestamp'] = pd.to_datetime(dataset['timestamp'])"
   ]
  },
  {
   "cell_type": "code",
   "execution_count": 12,
   "id": "4ca48aff",
   "metadata": {},
   "outputs": [],
   "source": [
    "# We can also see that the column Rating is of int64 data type, but it is actually a float.\n",
    "\n",
    "# We can convert it to a float using the following code:\n",
    "\n",
    "dataset['rating'] = dataset['rating'].astype(float)"
   ]
  },
  {
   "cell_type": "code",
   "execution_count": 13,
   "id": "e130af5d",
   "metadata": {},
   "outputs": [],
   "source": [
    "# We can also see that the column User ID is of int64 data type, but it is actually a string.\n",
    "\n",
    "# We can convert it to a string using the following code:\n",
    "\n",
    "dataset['user_id'] = dataset['user_id'].astype(str)"
   ]
  },
  {
   "cell_type": "code",
   "execution_count": 14,
   "id": "5df6233f",
   "metadata": {},
   "outputs": [],
   "source": [
    "# We can also see that the column Product ID is of object data type, but it is actually a string.\n",
    "\n",
    "# We can convert it to a string using the following code:\n",
    "\n",
    "dataset['item_id'] = dataset['item_id'].astype(str)"
   ]
  },
  {
   "cell_type": "code",
   "execution_count": 15,
   "id": "756a39e5",
   "metadata": {},
   "outputs": [
    {
     "data": {
      "text/html": [
       "<div>\n",
       "<style scoped>\n",
       "    .dataframe tbody tr th:only-of-type {\n",
       "        vertical-align: middle;\n",
       "    }\n",
       "\n",
       "    .dataframe tbody tr th {\n",
       "        vertical-align: top;\n",
       "    }\n",
       "\n",
       "    .dataframe thead th {\n",
       "        text-align: right;\n",
       "    }\n",
       "</style>\n",
       "<table border=\"1\" class=\"dataframe\">\n",
       "  <thead>\n",
       "    <tr style=\"text-align: right;\">\n",
       "      <th></th>\n",
       "      <th>rating</th>\n",
       "      <th>year</th>\n",
       "      <th>split</th>\n",
       "    </tr>\n",
       "  </thead>\n",
       "  <tbody>\n",
       "    <tr>\n",
       "      <th>count</th>\n",
       "      <td>1.048575e+06</td>\n",
       "      <td>1.048575e+06</td>\n",
       "      <td>1.048575e+06</td>\n",
       "    </tr>\n",
       "    <tr>\n",
       "      <th>mean</th>\n",
       "      <td>4.062872e+00</td>\n",
       "      <td>2.012688e+03</td>\n",
       "      <td>1.635172e-01</td>\n",
       "    </tr>\n",
       "    <tr>\n",
       "      <th>std</th>\n",
       "      <td>1.361620e+00</td>\n",
       "      <td>2.670931e+00</td>\n",
       "      <td>5.318743e-01</td>\n",
       "    </tr>\n",
       "    <tr>\n",
       "      <th>min</th>\n",
       "      <td>1.000000e+00</td>\n",
       "      <td>1.999000e+03</td>\n",
       "      <td>0.000000e+00</td>\n",
       "    </tr>\n",
       "    <tr>\n",
       "      <th>25%</th>\n",
       "      <td>4.000000e+00</td>\n",
       "      <td>2.012000e+03</td>\n",
       "      <td>0.000000e+00</td>\n",
       "    </tr>\n",
       "    <tr>\n",
       "      <th>50%</th>\n",
       "      <td>5.000000e+00</td>\n",
       "      <td>2.013000e+03</td>\n",
       "      <td>0.000000e+00</td>\n",
       "    </tr>\n",
       "    <tr>\n",
       "      <th>75%</th>\n",
       "      <td>5.000000e+00</td>\n",
       "      <td>2.015000e+03</td>\n",
       "      <td>0.000000e+00</td>\n",
       "    </tr>\n",
       "    <tr>\n",
       "      <th>max</th>\n",
       "      <td>5.000000e+00</td>\n",
       "      <td>2.018000e+03</td>\n",
       "      <td>2.000000e+00</td>\n",
       "    </tr>\n",
       "  </tbody>\n",
       "</table>\n",
       "</div>"
      ],
      "text/plain": [
       "             rating          year         split\n",
       "count  1.048575e+06  1.048575e+06  1.048575e+06\n",
       "mean   4.062872e+00  2.012688e+03  1.635172e-01\n",
       "std    1.361620e+00  2.670931e+00  5.318743e-01\n",
       "min    1.000000e+00  1.999000e+03  0.000000e+00\n",
       "25%    4.000000e+00  2.012000e+03  0.000000e+00\n",
       "50%    5.000000e+00  2.013000e+03  0.000000e+00\n",
       "75%    5.000000e+00  2.015000e+03  0.000000e+00\n",
       "max    5.000000e+00  2.018000e+03  2.000000e+00"
      ]
     },
     "execution_count": 15,
     "metadata": {},
     "output_type": "execute_result"
    }
   ],
   "source": [
    "# to get a better understanding of the dataset,\n",
    "\n",
    "# we can also see the statistical summary of the dataset.\n",
    "\n",
    "dataset.describe()"
   ]
  },
  {
   "cell_type": "code",
   "execution_count": 16,
   "id": "29b25943",
   "metadata": {},
   "outputs": [],
   "source": [
    "# the statistical summary of the dataset gives us the following information:\n",
    "\n",
    "# 1. The mean rating is 4.\n",
    "\n",
    "# 2. The minimum rating is 1.\n",
    "\n",
    "# 3. The maximum rating is 5.\n",
    "\n",
    "# 4. The standard deviation of the ratings is 1.4.\n",
    "\n",
    "# 5. The 25th percentile of the ratings is 4.\n",
    "\n",
    "# 6. The 50th percentile of the ratings is 5.\n",
    "\n",
    "# 7. The 75th percentile of the ratings is 5"
   ]
  },
  {
   "cell_type": "code",
   "execution_count": 17,
   "id": "fb8e4047",
   "metadata": {},
   "outputs": [
    {
     "data": {
      "text/plain": [
       "item_id         9490\n",
       "user_id       941861\n",
       "rating             5\n",
       "timestamp       5753\n",
       "model_attr         3\n",
       "category          10\n",
       "brand             51\n",
       "year              20\n",
       "user_attr          2\n",
       "split              3\n",
       "dtype: int64"
      ]
     },
     "execution_count": 17,
     "metadata": {},
     "output_type": "execute_result"
    }
   ],
   "source": [
    "# We can also see the number of unique users and items in the dataset.\n",
    "\n",
    "dataset.nunique()"
   ]
  },
  {
   "cell_type": "code",
   "execution_count": 18,
   "id": "44d08056",
   "metadata": {},
   "outputs": [
    {
     "data": {
      "text/plain": [
       "0"
      ]
     },
     "execution_count": 18,
     "metadata": {},
     "output_type": "execute_result"
    }
   ],
   "source": [
    "# check for duplicates\n",
    "\n",
    "dataset.duplicated().sum()"
   ]
  },
  {
   "cell_type": "code",
   "execution_count": 25,
   "id": "a7358632",
   "metadata": {},
   "outputs": [
    {
     "data": {
      "text/plain": [
       "item_id        0\n",
       "user_id        0\n",
       "rating         0\n",
       "timestamp      0\n",
       "model_attr     0\n",
       "category       0\n",
       "brand          0\n",
       "year           0\n",
       "user_attr     28\n",
       "split          0\n",
       "dtype: int64"
      ]
     },
     "execution_count": 25,
     "metadata": {},
     "output_type": "execute_result"
    }
   ],
   "source": [
    "# check for missing values\n",
    "\n",
    "dataset.isnull().sum()"
   ]
  },
  {
   "cell_type": "code",
   "execution_count": 26,
   "id": "27150197",
   "metadata": {},
   "outputs": [
    {
     "data": {
      "text/plain": [
       "5.0    609417\n",
       "4.0    181795\n",
       "1.0    111523\n",
       "3.0     82758\n",
       "2.0     63082\n",
       "Name: rating, dtype: int64"
      ]
     },
     "execution_count": 26,
     "metadata": {},
     "output_type": "execute_result"
    }
   ],
   "source": [
    "# the distribution of ratings\n",
    "\n",
    "dataset['rating'].value_counts()"
   ]
  },
  {
   "cell_type": "code",
   "execution_count": 27,
   "id": "f1ca7aed",
   "metadata": {},
   "outputs": [],
   "source": [
    "# most of the ratings are 5"
   ]
  },
  {
   "cell_type": "code",
   "execution_count": 28,
   "id": "55549f05",
   "metadata": {},
   "outputs": [
    {
     "data": {
      "text/plain": [
       "2015    320887\n",
       "2016    302619\n",
       "2014    180676\n",
       "2013     99855\n",
       "2012     38389\n",
       "2017     28327\n",
       "2011     23894\n",
       "2010     16888\n",
       "2009     12804\n",
       "2008      9428\n",
       "2007      6798\n",
       "2006      2614\n",
       "2005      2170\n",
       "2004      1275\n",
       "2003       833\n",
       "2002       481\n",
       "2001       403\n",
       "2000       187\n",
       "1999        47\n",
       "Name: year, dtype: int64"
      ]
     },
     "execution_count": 28,
     "metadata": {},
     "output_type": "execute_result"
    }
   ],
   "source": [
    "# what was the best year of sales\n",
    "\n",
    "dataset['year'] = pd.DatetimeIndex(dataset['timestamp']).year\n",
    "\n",
    "dataset['year'].value_counts()"
   ]
  },
  {
   "cell_type": "code",
   "execution_count": 29,
   "id": "63451ecf",
   "metadata": {},
   "outputs": [],
   "source": [
    "# 2015 was the best year of sales"
   ]
  },
  {
   "cell_type": "code",
   "execution_count": 30,
   "id": "d03fc2a9",
   "metadata": {},
   "outputs": [
    {
     "data": {
      "text/plain": [
       "1     105610\n",
       "12    102759\n",
       "7      90040\n",
       "8      89693\n",
       "11     86570\n",
       "3      85779\n",
       "10     85203\n",
       "9      84214\n",
       "2      82477\n",
       "5      78889\n",
       "6      78717\n",
       "4      78624\n",
       "Name: month, dtype: int64"
      ]
     },
     "execution_count": 30,
     "metadata": {},
     "output_type": "execute_result"
    }
   ],
   "source": [
    "# what was the best month of sales\n",
    "\n",
    "dataset['month'] = pd.DatetimeIndex(dataset['timestamp']).month\n",
    "\n",
    "dataset['month'].value_counts()"
   ]
  },
  {
   "cell_type": "code",
   "execution_count": 31,
   "id": "570c8148",
   "metadata": {},
   "outputs": [],
   "source": [
    "# January was the best month of sales"
   ]
  },
  {
   "cell_type": "code",
   "execution_count": 32,
   "id": "ae5939ed",
   "metadata": {},
   "outputs": [
    {
     "data": {
      "text/plain": [
       "item_id       0\n",
       "user_id       0\n",
       "rating        0\n",
       "timestamp     0\n",
       "model_attr    0\n",
       "category      0\n",
       "brand         0\n",
       "year          0\n",
       "user_attr     0\n",
       "split         0\n",
       "month         0\n",
       "dtype: int64"
      ]
     },
     "execution_count": 32,
     "metadata": {},
     "output_type": "execute_result"
    }
   ],
   "source": [
    "# drop all null values\n",
    "\n",
    "dataset.dropna(inplace=True)\n",
    "\n",
    "# check for missing values\n",
    "\n",
    "dataset.isnull().sum()"
   ]
  },
  {
   "cell_type": "markdown",
   "id": "0fc32e2e",
   "metadata": {},
   "source": [
    "# FINDING ANSWERS WITH THE DATA WE HAVE WITH VISUALIZATIONS"
   ]
  },
  {
   "cell_type": "code",
   "execution_count": 33,
   "id": "e1d76886",
   "metadata": {},
   "outputs": [
    {
     "data": {
      "text/plain": [
       "<AxesSubplot:xlabel='rating', ylabel='count'>"
      ]
     },
     "execution_count": 33,
     "metadata": {},
     "output_type": "execute_result"
    },
    {
     "data": {
      "image/png": "[encoded data removed]",
      "text/plain": [
       "<Figure size 432x288 with 1 Axes>"
      ]
     },
     "metadata": {
      "needs_background": "light"
     },
     "output_type": "display_data"
    }
   ],
   "source": [
    "# the distribution of ratings \n",
    "\n",
    "sns.countplot(x='rating', data=dataset)"
   ]
  },
  {
   "cell_type": "code",
   "execution_count": 34,
   "id": "f9e071fd",
   "metadata": {},
   "outputs": [
    {
     "data": {
      "text/plain": [
       "5.0    609406\n",
       "4.0    181789\n",
       "1.0    111518\n",
       "3.0     82755\n",
       "2.0     63079\n",
       "Name: rating, dtype: int64"
      ]
     },
     "execution_count": 34,
     "metadata": {},
     "output_type": "execute_result"
    }
   ],
   "source": [
    "# the distribution of ratings\n",
    "\n",
    "# The distribution of ratings is as follows:\n",
    "\n",
    "# most of the ratings are 5\n",
    "\n",
    "dataset['rating'].value_counts()"
   ]
  },
  {
   "cell_type": "code",
   "execution_count": 35,
   "id": "0a850a7d",
   "metadata": {},
   "outputs": [
    {
     "data": {
      "text/plain": [
       "<AxesSubplot:xlabel='year', ylabel='count'>"
      ]
     },
     "execution_count": 35,
     "metadata": {},
     "output_type": "execute_result"
    },
    {
     "data": {
      "image/png": "[encoded data removed]",
      "text/plain": [
       "<Figure size 432x288 with 1 Axes>"
      ]
     },
     "metadata": {
      "needs_background": "light"
     },
     "output_type": "display_data"
    }
   ],
   "source": [
    "# the distribution of sales by year\n",
    "\n",
    "sns.countplot(x='year', data=dataset)\n",
    "\n",
    "# the distribution of sales by year\n",
    "\n",
    "# The distribution of sales by year is as follows:\n",
    "\n",
    "# 2015 was the best year of sales"
   ]
  },
  {
   "cell_type": "code",
   "execution_count": 36,
   "id": "bdcd074d",
   "metadata": {},
   "outputs": [
    {
     "data": {
      "text/plain": [
       "<AxesSubplot:xlabel='brand', ylabel='count'>"
      ]
     },
     "execution_count": 36,
     "metadata": {},
     "output_type": "execute_result"
    },
    {
     "data": {
      "image/png": "[encoded data removed]",
      "text/plain": [
       "<Figure size 432x288 with 1 Axes>"
      ]
     },
     "metadata": {
      "needs_background": "light"
     },
     "output_type": "display_data"
    }
   ],
   "source": [
    "# brands with the most sales\n",
    "\n",
    "sns.countplot(x='brand', data=dataset, order=dataset['brand'].value_counts().iloc[1:10].index)"
   ]
  },
  {
   "cell_type": "code",
   "execution_count": 37,
   "id": "74b27ba5",
   "metadata": {},
   "outputs": [
    {
     "data": {
      "text/plain": [
       "<AxesSubplot:xlabel='brand', ylabel='count'>"
      ]
     },
     "execution_count": 37,
     "metadata": {},
     "output_type": "execute_result"
    },
    {
     "data": {
      "image/png": "[encoded data removed]",
      "text/plain": [
       "<Figure size 432x288 with 1 Axes>"
      ]
     },
     "metadata": {
      "needs_background": "light"
     },
     "output_type": "display_data"
    }
   ],
   "source": [
    "# What brand name sold the least?\n",
    "\n",
    "sns.countplot(x='brand', data=dataset, order=dataset['brand'].value_counts().iloc[-10:].index)"
   ]
  },
  {
   "cell_type": "code",
   "execution_count": 38,
   "id": "94157a4f",
   "metadata": {},
   "outputs": [],
   "source": [
    "# We can see that the brand name of EINCAR sold the least followed closely with DURAGADGET."
   ]
  },
  {
   "cell_type": "code",
   "execution_count": 39,
   "id": "abf690fc",
   "metadata": {},
   "outputs": [],
   "source": [
    "# Logitech & Bose had the most sales followed by Sony."
   ]
  },
  {
   "cell_type": "code",
   "execution_count": 40,
   "id": "4e988980",
   "metadata": {},
   "outputs": [
    {
     "data": {
      "text/plain": [
       "<AxesSubplot:xlabel='brand', ylabel='count'>"
      ]
     },
     "execution_count": 40,
     "metadata": {},
     "output_type": "execute_result"
    },
    {
     "data": {
      "image/png": "[encoded data removed]",
      "text/plain": [
       "<Figure size 432x288 with 1 Axes>"
      ]
     },
     "metadata": {
      "needs_background": "light"
     },
     "output_type": "display_data"
    }
   ],
   "source": [
    "# brands with the most sales in 2016\n",
    "\n",
    "sns.countplot(x='brand', data=dataset[dataset['year'] == 2016], order=dataset['brand'].value_counts().iloc[1:10].index)"
   ]
  },
  {
   "cell_type": "code",
   "execution_count": 41,
   "id": "29eebb71",
   "metadata": {},
   "outputs": [],
   "source": [
    "# in 2016 Bose overtook Logitech to have the most sales.\n",
    "\n",
    "# TaoTronics had the third most sales that year"
   ]
  },
  {
   "cell_type": "code",
   "execution_count": 42,
   "id": "9223c9f9",
   "metadata": {},
   "outputs": [
    {
     "data": {
      "text/plain": [
       "<AxesSubplot:xlabel='brand', ylabel='count'>"
      ]
     },
     "execution_count": 42,
     "metadata": {},
     "output_type": "execute_result"
    },
    {
     "data": {
      "image/png": "[encoded data removed]",
      "text/plain": [
       "<Figure size 432x288 with 1 Axes>"
      ]
     },
     "metadata": {
      "needs_background": "light"
     },
     "output_type": "display_data"
    }
   ],
   "source": [
    "# brands with the most sales in 2017\n",
    "\n",
    "sns.countplot(x='brand', data=dataset[dataset['year'] == 2017], order=dataset['brand'].value_counts().iloc[1:10].index)"
   ]
  },
  {
   "cell_type": "code",
   "execution_count": 43,
   "id": "7a65eec5",
   "metadata": {},
   "outputs": [],
   "source": [
    "# the top 3 products sold in 2017 were Bose, Logitech and Mpow."
   ]
  },
  {
   "cell_type": "code",
   "execution_count": 46,
   "id": "215fb7de",
   "metadata": {},
   "outputs": [
    {
     "data": {
      "text/plain": [
       "<AxesSubplot:xlabel='brand', ylabel='count'>"
      ]
     },
     "execution_count": 46,
     "metadata": {},
     "output_type": "execute_result"
    },
    {
     "data": {
      "image/png": "[encoded data removed]",
      "text/plain": [
       "<Figure size 432x288 with 1 Axes>"
      ]
     },
     "metadata": {
      "needs_background": "light"
     },
     "output_type": "display_data"
    }
   ],
   "source": [
    "# brands with the most sales in 2018\n",
    "\n",
    "sns.countplot(x='brand', data=dataset[dataset['year'] == 2018], order=dataset['brand'].value_counts().iloc[1:10].index)"
   ]
  },
  {
   "cell_type": "code",
   "execution_count": 47,
   "id": "a27b6c87",
   "metadata": {},
   "outputs": [],
   "source": [
    "# For 2018, Bose was the most sold for a third year in a row followed by Logitech while Mpow was the third most sold."
   ]
  },
  {
   "cell_type": "code",
   "execution_count": 48,
   "id": "7e599d25",
   "metadata": {},
   "outputs": [
    {
     "data": {
      "text/plain": [
       "<AxesSubplot:xlabel='month', ylabel='count'>"
      ]
     },
     "execution_count": 48,
     "metadata": {},
     "output_type": "execute_result"
    },
    {
     "data": {
      "image/png": "[encoded data removed]",
      "text/plain": [
       "<Figure size 432x288 with 1 Axes>"
      ]
     },
     "metadata": {
      "needs_background": "light"
     },
     "output_type": "display_data"
    }
   ],
   "source": [
    "# month with most sales\n",
    "\n",
    "sns.countplot(x='month', data=dataset)"
   ]
  },
  {
   "cell_type": "code",
   "execution_count": 49,
   "id": "580a3f74",
   "metadata": {},
   "outputs": [],
   "source": [
    "# January[#1] was the month with the most sales"
   ]
  },
  {
   "cell_type": "code",
   "execution_count": 50,
   "id": "065d6bb0",
   "metadata": {},
   "outputs": [
    {
     "data": {
      "text/plain": [
       "<AxesSubplot:xlabel='category', ylabel='count'>"
      ]
     },
     "execution_count": 50,
     "metadata": {},
     "output_type": "execute_result"
    },
    {
     "data": {
      "image/png": "[encoded data removed]",
      "text/plain": [
       "<Figure size 432x288 with 1 Axes>"
      ]
     },
     "metadata": {
      "needs_background": "light"
     },
     "output_type": "display_data"
    }
   ],
   "source": [
    "# What products by category were sold the most in January\n",
    "\n",
    "sns.countplot(x='category', data=dataset[dataset['month'] == 1], order=dataset['category'].value_counts().iloc[1:10].index)"
   ]
  },
  {
   "cell_type": "code",
   "execution_count": 51,
   "id": "974c780c",
   "metadata": {},
   "outputs": [],
   "source": [
    "# The top 3 products sold in January were Computers & Accesories, Camera & Photo and Accesories & Supplies."
   ]
  },
  {
   "cell_type": "code",
   "execution_count": 54,
   "id": "4c2a7598",
   "metadata": {},
   "outputs": [
    {
     "data": {
      "text/plain": [
       "<AxesSubplot:xlabel='category', ylabel='count'>"
      ]
     },
     "execution_count": 54,
     "metadata": {},
     "output_type": "execute_result"
    },
    {
     "data": {
      "image/png": "[encoded data removed]",
      "text/plain": [
       "<Figure size 432x288 with 1 Axes>"
      ]
     },
     "metadata": {
      "needs_background": "light"
     },
     "output_type": "display_data"
    }
   ],
   "source": [
    "# Category with the least sales\n",
    "\n",
    "sns.countplot(x='category', data=dataset, order=dataset['category'].value_counts().iloc[-10:].index)"
   ]
  },
  {
   "cell_type": "code",
   "execution_count": 55,
   "id": "cd65847f",
   "metadata": {},
   "outputs": [],
   "source": [
    "# The category with the least sales was Security & Surveillance while the most sales were Headphones."
   ]
  },
  {
   "cell_type": "code",
   "execution_count": 56,
   "id": "52871411",
   "metadata": {},
   "outputs": [
    {
     "data": {
      "image/png": "[encoded data removed]",
      "text/plain": [
       "<Figure size 432x288 with 1 Axes>"
      ]
     },
     "metadata": {},
     "output_type": "display_data"
    }
   ],
   "source": [
    "# distribution of sales presented in a pie chart\n",
    "\n",
    "dataset['category'].value_counts(normalize=True)\n",
    "dataset.groupby('category')['rating'].count().sort_values(ascending=False).head(10).plot(kind='pie')\n",
    "\n",
    "# white background\n",
    "\n",
    "sns.set_style('white')"
   ]
  },
  {
   "cell_type": "code",
   "execution_count": 57,
   "id": "e4f45639",
   "metadata": {},
   "outputs": [],
   "source": [
    "# conclusion of our analysis\n",
    "\n",
    "# We can see that the year 2015 had the best sales.\n",
    "\n",
    "# The month of January had the best sales.\n",
    "\n",
    "# We can see that the brands Bose and Logitech sold the most\n",
    "\n",
    "# We can see that the category of Headphones sold the most.\n",
    "\n",
    "# We can see that the brand name of EINCAR sold the least followed closely with DURAGADGET.\n",
    "\n",
    "# We can see that the category of Security and Surveillance sold the least."
   ]
  }
 ],
 "metadata": {
  "kernelspec": {
   "display_name": "Python 3 (ipykernel)",
   "language": "python",
   "name": "python3"
  },
  "language_info": {
   "codemirror_mode": {
    "name": "ipython",
    "version": 3
   },
   "file_extension": ".py",
   "mimetype": "text/x-python",
   "name": "python",
   "nbconvert_exporter": "python",
   "pygments_lexer": "ipython3",
   "version": "3.9.12"
  }
 },
 "nbformat": 4,
 "nbformat_minor": 5
}
